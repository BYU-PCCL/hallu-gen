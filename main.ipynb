{
 "cells": [
  {
   "cell_type": "code",
   "execution_count": 1,
   "metadata": {},
   "outputs": [
    {
     "data": {
      "application/vnd.jupyter.widget-view+json": {
       "model_id": "b90b7f3338814218aed80738bbdc6b5b",
       "version_major": 2,
       "version_minor": 0
      },
      "text/plain": [
       "Downloading readme:   0%|          | 0.00/115 [00:00<?, ?B/s]"
      ]
     },
     "metadata": {},
     "output_type": "display_data"
    },
    {
     "data": {
      "application/vnd.jupyter.widget-view+json": {
       "model_id": "a496b1c11b5d42199df09d1cbbcef8f2",
       "version_major": 2,
       "version_minor": 0
      },
      "text/plain": [
       "Downloading data:   0%|          | 0.00/42.4M [00:00<?, ?B/s]"
      ]
     },
     "metadata": {},
     "output_type": "display_data"
    },
    {
     "data": {
      "application/vnd.jupyter.widget-view+json": {
       "model_id": "51a9581ac63144299359db18a4642858",
       "version_major": 2,
       "version_minor": 0
      },
      "text/plain": [
       "Downloading data:   0%|          | 0.00/5.72M [00:00<?, ?B/s]"
      ]
     },
     "metadata": {},
     "output_type": "display_data"
    },
    {
     "data": {
      "application/vnd.jupyter.widget-view+json": {
       "model_id": "5c5dee49cd1248b29f2e4547fe0fe18d",
       "version_major": 2,
       "version_minor": 0
      },
      "text/plain": [
       "Generating train split:   0%|          | 0/51383 [00:00<?, ? examples/s]"
      ]
     },
     "metadata": {},
     "output_type": "display_data"
    },
    {
     "data": {
      "application/vnd.jupyter.widget-view+json": {
       "model_id": "46885947b7e6483f880fc0663c696aa2",
       "version_major": 2,
       "version_minor": 0
      },
      "text/plain": [
       "Generating test split:   0%|          | 0/6960 [00:00<?, ? examples/s]"
      ]
     },
     "metadata": {},
     "output_type": "display_data"
    }
   ],
   "source": [
    "from datasets import load_dataset\n",
    "import matplotlib.pyplot as plt\n",
    "import pandas as pd\n",
    "\n",
    "dataset = load_dataset(\"zjunlp/FactCHD\")"
   ]
  },
  {
   "cell_type": "code",
   "execution_count": 2,
   "metadata": {},
   "outputs": [
    {
     "name": "stdout",
     "output_type": "stream",
     "text": [
      "Index(['id', 'label', 'query', 'response', 'reason', 'type', 'domain',\n",
      "       'subgraph_type', 'comparison_size', 'set_size', 'answer_size'],\n",
      "      dtype='object')\n"
     ]
    }
   ],
   "source": [
    "df = pd.DataFrame(dataset[\"train\"])\n",
    "print(df.columns)"
   ]
  },
  {
   "cell_type": "code",
   "execution_count": 20,
   "metadata": {},
   "outputs": [],
   "source": [
    "def wrap_response(df):\n",
    "    for index, row in df.iterrows():\n",
    "        if row['label'] == 'FALSE':\n",
    "            row['response'] = '<false>' + row['response'] + '</false>'"
   ]
  },
  {
   "cell_type": "code",
   "execution_count": 24,
   "metadata": {},
   "outputs": [
    {
     "name": "stdout",
     "output_type": "stream",
     "text": [
      "     label                                              query  \\\n",
      "507  FALSE  Among the given states and sovereign states, w...   \n",
      "818  FALSE  Can you provide me with the box office earning...   \n",
      "452   TRUE  Could you tell me which biopic Matt Damon star...   \n",
      "368   TRUE  What is the total fertility rate of the United...   \n",
      "242   TRUE  Could you tell me what position Mike Pence hel...   \n",
      "..     ...                                                ...   \n",
      "767  FALSE  Could you provide me with the birthdate of Ann...   \n",
      "72    TRUE  Can you name a film based on literature that f...   \n",
      "908  FALSE  Among the four places, which has the highest p...   \n",
      "235   TRUE  Among the five sovereign states of China, Indi...   \n",
      "37    TRUE  What was the population of the San Francisco B...   \n",
      "\n",
      "                                              response  \n",
      "507  <false>Among the given states and sovereign st...  \n",
      "818  <false>Passengers grossed $303 million when it...  \n",
      "452                    Matt Damon starred in a biopic.  \n",
      "368  The total fertility rate of the United States ...  \n",
      "242  Mike Pence served as the chairman of the House...  \n",
      "..                                                 ...  \n",
      "767  <false>Anne Sullivan was born on April 12 1866...  \n",
      "72   \"Emma\" is a film based on literature that feat...  \n",
      "908  <false>Among the given places, *Geneva* has th...  \n",
      "235  Among the given sovereign states, *Russia* had...  \n",
      "37   The population of the San Francisco Bay Area a...  \n",
      "\n",
      "[1000 rows x 3 columns]\n"
     ]
    },
    {
     "name": "stderr",
     "output_type": "stream",
     "text": [
      "/tmp/ipykernel_143811/2811632539.py:5: UserWarning: Boolean Series key will be reindexed to match DataFrame index.\n",
      "  true = filtered_df[df['label'].isin(['FACTUAL'])]\n",
      "/tmp/ipykernel_143811/2811632539.py:7: SettingWithCopyWarning: \n",
      "A value is trying to be set on a copy of a slice from a DataFrame.\n",
      "Try using .loc[row_indexer,col_indexer] = value instead\n",
      "\n",
      "See the caveats in the documentation: https://pandas.pydata.org/pandas-docs/stable/user_guide/indexing.html#returning-a-view-versus-a-copy\n",
      "  true_trim['label'] = true_trim['label'].replace('FACTUAL', 'TRUE')\n",
      "/tmp/ipykernel_143811/2811632539.py:11: UserWarning: Boolean Series key will be reindexed to match DataFrame index.\n",
      "  false = filtered_df[df['label'].isin(['NON-FACTUAL'])]\n",
      "/tmp/ipykernel_143811/2811632539.py:13: SettingWithCopyWarning: \n",
      "A value is trying to be set on a copy of a slice from a DataFrame.\n",
      "Try using .loc[row_indexer,col_indexer] = value instead\n",
      "\n",
      "See the caveats in the documentation: https://pandas.pydata.org/pandas-docs/stable/user_guide/indexing.html#returning-a-view-versus-a-copy\n",
      "  false_trim['label'] = false_trim['label'].replace('NON-FACTUAL', 'FALSE')\n"
     ]
    }
   ],
   "source": [
    "# Get 29,768 examples (where domain is common_wikipedia or common_wikidata)\n",
    "filtered_df = df[df['domain'].isin(['common_wikipedia', 'common_wikidata'])]\n",
    "\n",
    "# Get 500 examples of true query-response pairs\n",
    "true = filtered_df[df['label'].isin(['FACTUAL'])]\n",
    "true_trim = true[['label', 'query', 'response']]\n",
    "true_trim['label'] = true_trim['label'].replace('FACTUAL', 'TRUE')\n",
    "true_sample = true_trim.sample(n=500, replace=False, random_state=1) # same sample everytime (remove random_state to get different samples everytime) \n",
    "\n",
    "# Get 500 examples of false query-response pairs\n",
    "false = filtered_df[df['label'].isin(['NON-FACTUAL'])]\n",
    "false_trim = false[['label', 'query', 'response']]\n",
    "false_trim['label'] = false_trim['label'].replace('NON-FACTUAL', 'FALSE')\n",
    "false_sample = false_trim.sample(n=500, replace=False, random_state=1) # same sample everytime (remove random_state to get different samples everytime)\n",
    "\n",
    "# Combine and shuffle (just cuz) to get 1000 training examples\n",
    "combined_df = pd.concat([true_sample, false_sample], ignore_index=True)\n",
    "shuffled_df = combined_df.sample(frac=1, random_state=1)\n",
    "\n",
    "wrap_response(shuffled_df)\n",
    "\n",
    "print(shuffled_df)"
   ]
  },
  {
   "cell_type": "code",
   "execution_count": null,
   "metadata": {},
   "outputs": [],
   "source": []
  }
 ],
 "metadata": {
  "kernelspec": {
   "display_name": "Python 3",
   "language": "python",
   "name": "python3"
  },
  "language_info": {
   "codemirror_mode": {
    "name": "ipython",
    "version": 3
   },
   "file_extension": ".py",
   "mimetype": "text/x-python",
   "name": "python",
   "nbconvert_exporter": "python",
   "pygments_lexer": "ipython3",
   "version": "3.10.12"
  }
 },
 "nbformat": 4,
 "nbformat_minor": 2
}
