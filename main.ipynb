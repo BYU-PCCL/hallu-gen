{
 "cells": [
  {
   "cell_type": "code",
   "execution_count": 1,
   "metadata": {},
   "outputs": [],
   "source": [
    "from datasets import load_dataset\n",
    "import matplotlib.pyplot as plt\n",
    "import pandas as pd\n",
    "\n",
    "dataset = load_dataset(\"zjunlp/FactCHD\")"
   ]
  },
  {
   "cell_type": "code",
   "execution_count": 2,
   "metadata": {},
   "outputs": [
    {
     "name": "stdout",
     "output_type": "stream",
     "text": [
      "Index(['id', 'label', 'query', 'response', 'reason', 'type', 'domain',\n",
      "       'subgraph_type', 'comparison_size', 'set_size', 'answer_size'],\n",
      "      dtype='object')\n"
     ]
    }
   ],
   "source": [
    "df = pd.DataFrame(dataset[\"train\"])\n",
    "print(df.columns)"
   ]
  },
  {
   "cell_type": "code",
   "execution_count": 16,
   "metadata": {},
   "outputs": [],
   "source": [
    "def wrap_response(df):\n",
    "    df['response'] = ' <false> ' + df['response'] + ' </false> '"
   ]
  },
  {
   "cell_type": "code",
   "execution_count": 19,
   "metadata": {},
   "outputs": [
    {
     "name": "stdout",
     "output_type": "stream",
     "text": [
      "507     <false> Among the given states and sovereign ...\n",
      "818     <false> Passengers grossed $303 million when ...\n",
      "452     <false> Matt Damon starred in a biopic. </fal...\n",
      "368     <false> The total fertility rate of the Unite...\n",
      "242     <false> Mike Pence served as the chairman of ...\n",
      "                             ...                        \n",
      "767     <false> Anne Sullivan was born on April 12 18...\n",
      "72      <false> \"Emma\" is a film based on literature ...\n",
      "908     <false> Among the given places, *Geneva* has ...\n",
      "235     <false> Among the given sovereign states, *Ru...\n",
      "37      <false> The population of the San Francisco B...\n",
      "Name: response, Length: 1000, dtype: string\n"
     ]
    },
    {
     "name": "stderr",
     "output_type": "stream",
     "text": [
      "/tmp/ipykernel_395614/656176293.py:5: UserWarning: Boolean Series key will be reindexed to match DataFrame index.\n",
      "  true = filtered_df[df['label'].isin(['FACTUAL'])]\n",
      "/tmp/ipykernel_395614/656176293.py:7: SettingWithCopyWarning: \n",
      "A value is trying to be set on a copy of a slice from a DataFrame.\n",
      "Try using .loc[row_indexer,col_indexer] = value instead\n",
      "\n",
      "See the caveats in the documentation: https://pandas.pydata.org/pandas-docs/stable/user_guide/indexing.html#returning-a-view-versus-a-copy\n",
      "  true_trim['label'] = true_trim['label'].replace('FACTUAL', 'TRUE')\n",
      "/tmp/ipykernel_395614/656176293.py:11: UserWarning: Boolean Series key will be reindexed to match DataFrame index.\n",
      "  false = filtered_df[df['label'].isin(['NON-FACTUAL'])]\n",
      "/tmp/ipykernel_395614/656176293.py:13: SettingWithCopyWarning: \n",
      "A value is trying to be set on a copy of a slice from a DataFrame.\n",
      "Try using .loc[row_indexer,col_indexer] = value instead\n",
      "\n",
      "See the caveats in the documentation: https://pandas.pydata.org/pandas-docs/stable/user_guide/indexing.html#returning-a-view-versus-a-copy\n",
      "  false_trim['label'] = false_trim['label'].replace('NON-FACTUAL', 'FALSE')\n"
     ]
    }
   ],
   "source": [
    "# Get 29,768 examples (where domain is common_wikipedia or common_wikidata)\n",
    "filtered_df = df[df['domain'].isin(['common_wikipedia', 'common_wikidata'])]\n",
    "\n",
    "# Get 500 examples of true query-response pairs\n",
    "true = filtered_df[df['label'].isin(['FACTUAL'])]\n",
    "true_trim = true[['label', 'query', 'response']]\n",
    "true_trim['label'] = true_trim['label'].replace('FACTUAL', 'TRUE')\n",
    "true_sample = true_trim.sample(n=500, replace=False, random_state=1) # same sample everytime (remove random_state to get different samples everytime) \n",
    "\n",
    "# Get 500 examples of false query-response pairs\n",
    "false = filtered_df[df['label'].isin(['NON-FACTUAL'])]\n",
    "false_trim = false[['label', 'query', 'response']]\n",
    "false_trim['label'] = false_trim['label'].replace('NON-FACTUAL', 'FALSE')\n",
    "false_sample = false_trim.sample(n=500, replace=False, random_state=1) # same sample everytime (remove random_state to get different samples everytime)\n",
    "\n",
    "# Combine and shuffle (just cuz) to get 1000 training examples\n",
    "combined_df = pd.concat([true_sample, false_sample], ignore_index=True)\n",
    "shuffled_df = combined_df.sample(frac=1, random_state=1)\n",
    "\n",
    "wrap_response(shuffled_df)\n",
    "shuffled_df = shuffled_df.astype({'label': 'string', 'query': 'string', 'response': 'string'})\n",
    "shuffled_df.to_csv('factCHD.csv', index=False)\n",
    "\n",
    "print(shuffled_df['response'])"
   ]
  },
  {
   "cell_type": "code",
   "execution_count": null,
   "metadata": {},
   "outputs": [],
   "source": []
  }
 ],
 "metadata": {
  "kernelspec": {
   "display_name": "Python 3",
   "language": "python",
   "name": "python3"
  },
  "language_info": {
   "codemirror_mode": {
    "name": "ipython",
    "version": 3
   },
   "file_extension": ".py",
   "mimetype": "text/x-python",
   "name": "python",
   "nbconvert_exporter": "python",
   "pygments_lexer": "ipython3",
   "version": "3.10.12"
  }
 },
 "nbformat": 4,
 "nbformat_minor": 2
}
