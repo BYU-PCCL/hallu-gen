{
 "cells": [
  {
   "cell_type": "code",
   "execution_count": 14,
   "metadata": {},
   "outputs": [],
   "source": [
    "from datasets import load_dataset\n",
    "import matplotlib.pyplot as plt\n",
    "import pandas as pd\n",
    "\n",
    "dataset = load_dataset(\"zjunlp/FactCHD\")"
   ]
  },
  {
   "cell_type": "code",
   "execution_count": 12,
   "metadata": {},
   "outputs": [
    {
     "name": "stdout",
     "output_type": "stream",
     "text": [
      "Index(['id', 'label', 'query', 'response', 'reason', 'type', 'domain',\n",
      "       'subgraph_type', 'comparison_size', 'set_size', 'answer_size'],\n",
      "      dtype='object')\n"
     ]
    }
   ],
   "source": [
    "df = pd.DataFrame(dataset[\"train\"])\n",
    "print(df.columns)"
   ]
  },
  {
   "cell_type": "code",
   "execution_count": 13,
   "metadata": {},
   "outputs": [
    {
     "name": "stdout",
     "output_type": "stream",
     "text": [
      "                                     id        label  \\\n",
      "0  1297e6a9-fe7e-11ed-a6c9-fa4faded13a2  NON-FACTUAL   \n",
      "1                         common_146384      FACTUAL   \n",
      "3  22b9f4ac-fe3b-11ed-bf67-fa4faded13a2      FACTUAL   \n",
      "7  16aa4d04-fee3-11ed-957c-fa4faded13a2  NON-FACTUAL   \n",
      "8  2bc95637-fe63-11ed-b55c-fa4faded13a2      FACTUAL   \n",
      "\n",
      "                                               query  \\\n",
      "0  How does the population of Honshu, the island,...   \n",
      "1  Could you provide information on who inhabited...   \n",
      "3  Which television network has been in operation...   \n",
      "7  Which countries have Arabic as their official ...   \n",
      "8  In 1967, which sovereign state had the highest...   \n",
      "\n",
      "                                            response  \\\n",
      "0  The population of Honshu, the island, is *smal...   \n",
      "1        Brazil was inhabited by indigenous peoples.   \n",
      "3  Among the given television networks, *PBS* has...   \n",
      "7  The countries that meet the given criteria are...   \n",
      "8  Among the given sovereign states, *Azerbaijan*...   \n",
      "\n",
      "                                              reason  type            domain  \\\n",
      "0  NON-FACTUAL.\\nThe answer that the population o...    kg   common_wikidata   \n",
      "1  FACTUAL.\\nThe answer that Brazil was inhabited...  text  common_wikipedia   \n",
      "3  FACTUAL.\\nThe answer that PBS has been in oper...    kg   common_wikidata   \n",
      "7  NON-FACTUAL.\\nThe answer that the countries me...    kg   common_wikidata   \n",
      "8  FACTUAL.\\nThe answer that Azerbaijan had the h...    kg   common_wikidata   \n",
      "\n",
      "             subgraph_type  comparison_size  set_size  answer_size  \n",
      "0  quantitative_comparison              3.0       NaN          NaN  \n",
      "1                     None              NaN       NaN          NaN  \n",
      "3  quantitative_comparison              5.0       NaN          NaN  \n",
      "7            set_operation              NaN       2.0          3.0  \n",
      "8  quantitative_comparison              4.0       NaN          NaN  \n"
     ]
    }
   ],
   "source": [
    "filtered_df = df[df['domain'].isin(['common_wikipedia', 'common_wikidata'])]\n",
    "\n",
    "print(filtered_df.head())"
   ]
  },
  {
   "cell_type": "code",
   "execution_count": null,
   "metadata": {},
   "outputs": [],
   "source": []
  }
 ],
 "metadata": {
  "kernelspec": {
   "display_name": "Python 3",
   "language": "python",
   "name": "python3"
  },
  "language_info": {
   "codemirror_mode": {
    "name": "ipython",
    "version": 3
   },
   "file_extension": ".py",
   "mimetype": "text/x-python",
   "name": "python",
   "nbconvert_exporter": "python",
   "pygments_lexer": "ipython3",
   "version": "3.10.12"
  }
 },
 "nbformat": 4,
 "nbformat_minor": 2
}
